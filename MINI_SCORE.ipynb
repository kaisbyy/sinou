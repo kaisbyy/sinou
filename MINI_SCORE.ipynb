{
 "cells": [
  {
   "cell_type": "code",
   "execution_count": 35,
   "metadata": {},
   "outputs": [],
   "source": [
    "# Personal config\n",
    "from IPython.core.display import display, HTML\n",
    "import pandas as pd\n",
    "import numpy as np\n",
    "import seaborn as sns\n",
    "import matplotlib.pyplot as plt\n",
    "%matplotlib inline\n",
    "import teradatasql as sqlt\n",
    "from sklearn.utils import resample"
   ]
  },
  {
   "cell_type": "code",
   "execution_count": 2,
   "metadata": {},
   "outputs": [],
   "source": [
    "#test connection avec teradatasql\n",
    "con = sqlt.connect(None,host='teradata.aws.dmpa.myengie.com', user='AMD_SAS_00_DGP_PROD', password='w6Y.a8[M') "
   ]
  },
  {
   "cell_type": "code",
   "execution_count": 3,
   "metadata": {},
   "outputs": [],
   "source": [
    "query = \"\"\" \n",
    "    SELECT ID_PERS, ID_LOCL, OFFRE, CODE_TYPE_COMPTAGE, CODE_STATUT_OCCUP, CODE_TYPE_HABITAT,NVO_EMMENAG,MT_TOTL_FACT_12M,FL_SERN_CHDR, DATE_REF\n",
    "    FROM AMD_V_DTMT_DTMN_DGP_PROD.VUE_CLIENTS_ACTIFS AS A \n",
    "\n",
    "    WHERE A.DATE_REF = '2021-07-01' \n",
    "      \n",
    "        \"\"\"\n",
    "\n",
    "df_raw = pd.read_sql(query,con)"
   ]
  },
  {
   "cell_type": "code",
   "execution_count": 4,
   "metadata": {},
   "outputs": [],
   "source": [
    "query = \"\"\" \n",
    "    SELECT ID_PERS, ID_LOCL, date_resil_tot\n",
    "    FROM AMD_ZAP_PCC_DGP_PROD.RESIL_TOT_DEPUIS_2015 AS B  \n",
    "    WHERE motif_resil_tot ='CHF' and date_resil_tot >='2021-07-01'\n",
    "        \"\"\"\n",
    "\n",
    "df_pertes = pd.read_sql(query,con)"
   ]
  },
  {
   "cell_type": "code",
   "execution_count": 5,
   "metadata": {},
   "outputs": [],
   "source": [
    "df_raw = pd.merge(df_raw,\n",
    "                 df_pertes,\n",
    "                 right_on=[\"ID_PERS\",\"ID_LOCL\"],\n",
    "                 left_on=[\"ID_PERS\",\"ID_LOCL\"],\n",
    "                 how='left')"
   ]
  },
  {
   "cell_type": "code",
   "execution_count": 6,
   "metadata": {},
   "outputs": [],
   "source": [
    "df_raw['TARGET'] = np.where((df_raw['date_resil_tot'].isnull()), 0, 1)"
   ]
  },
  {
   "cell_type": "code",
   "execution_count": 7,
   "metadata": {},
   "outputs": [
    {
     "data": {
      "text/plain": [
       "0    0.981916\n",
       "1    0.018084\n",
       "Name: TARGET, dtype: float64"
      ]
     },
     "execution_count": 7,
     "metadata": {},
     "output_type": "execute_result"
    }
   ],
   "source": [
    "df_raw['TARGET'].value_counts()/len(df_raw['TARGET'])"
   ]
  },
  {
   "cell_type": "code",
   "execution_count": 8,
   "metadata": {},
   "outputs": [
    {
     "name": "stdout",
     "output_type": "stream",
     "text": [
      "Number of Features : 11 \n",
      "['ID_PERS', 'ID_LOCL', 'OFFRE', 'CODE_TYPE_COMPTAGE', 'CODE_STATUT_OCCUP', 'CODE_TYPE_HABITAT', 'NVO_EMMENAG', 'MT_TOTL_FACT_12M', 'FL_SERN_CHDR', 'DATE_REF', 'date_resil_tot', 'TARGET']\n"
     ]
    }
   ],
   "source": [
    "print( f\"Number of Features : {len(df_raw.columns)-1} \\n{list(df_raw.columns)}\")"
   ]
  },
  {
   "cell_type": "code",
   "execution_count": 9,
   "metadata": {},
   "outputs": [
    {
     "name": "stdout",
     "output_type": "stream",
     "text": [
      "5772160\n"
     ]
    }
   ],
   "source": [
    "NUMBER_RECORDS = len(df_raw)\n",
    "print(NUMBER_RECORDS)"
   ]
  },
  {
   "cell_type": "code",
   "execution_count": 10,
   "metadata": {},
   "outputs": [
    {
     "data": {
      "text/html": [
       "<div>\n",
       "<style scoped>\n",
       "    .dataframe tbody tr th:only-of-type {\n",
       "        vertical-align: middle;\n",
       "    }\n",
       "\n",
       "    .dataframe tbody tr th {\n",
       "        vertical-align: top;\n",
       "    }\n",
       "\n",
       "    .dataframe thead th {\n",
       "        text-align: right;\n",
       "    }\n",
       "</style>\n",
       "<table border=\"1\" class=\"dataframe\">\n",
       "  <thead>\n",
       "    <tr style=\"text-align: right;\">\n",
       "      <th></th>\n",
       "      <th>ID_PERS</th>\n",
       "      <th>ID_LOCL</th>\n",
       "      <th>OFFRE</th>\n",
       "      <th>CODE_TYPE_COMPTAGE</th>\n",
       "      <th>CODE_STATUT_OCCUP</th>\n",
       "      <th>CODE_TYPE_HABITAT</th>\n",
       "      <th>NVO_EMMENAG</th>\n",
       "      <th>MT_TOTL_FACT_12M</th>\n",
       "      <th>FL_SERN_CHDR</th>\n",
       "      <th>DATE_REF</th>\n",
       "      <th>date_resil_tot</th>\n",
       "      <th>TARGET</th>\n",
       "    </tr>\n",
       "  </thead>\n",
       "  <tbody>\n",
       "    <tr>\n",
       "      <th>0</th>\n",
       "      <td>float64</td>\n",
       "      <td>float64</td>\n",
       "      <td>object</td>\n",
       "      <td>object</td>\n",
       "      <td>object</td>\n",
       "      <td>object</td>\n",
       "      <td>int64</td>\n",
       "      <td>float64</td>\n",
       "      <td>int64</td>\n",
       "      <td>object</td>\n",
       "      <td>object</td>\n",
       "      <td>int64</td>\n",
       "    </tr>\n",
       "    <tr>\n",
       "      <th>1</th>\n",
       "      <td>0.0</td>\n",
       "      <td>0.0</td>\n",
       "      <td>0.0</td>\n",
       "      <td>20.13</td>\n",
       "      <td>0.0</td>\n",
       "      <td>10.86</td>\n",
       "      <td>0.0</td>\n",
       "      <td>20.86</td>\n",
       "      <td>0.0</td>\n",
       "      <td>0.0</td>\n",
       "      <td>98.19</td>\n",
       "      <td>0.0</td>\n",
       "    </tr>\n",
       "  </tbody>\n",
       "</table>\n",
       "</div>"
      ],
      "text/plain": [
       "   ID_PERS  ID_LOCL   OFFRE CODE_TYPE_COMPTAGE CODE_STATUT_OCCUP  \\\n",
       "0  float64  float64  object             object            object   \n",
       "1      0.0      0.0     0.0              20.13               0.0   \n",
       "\n",
       "  CODE_TYPE_HABITAT NVO_EMMENAG MT_TOTL_FACT_12M FL_SERN_CHDR DATE_REF  \\\n",
       "0            object       int64          float64        int64   object   \n",
       "1             10.86         0.0            20.86          0.0      0.0   \n",
       "\n",
       "  date_resil_tot TARGET  \n",
       "0         object  int64  \n",
       "1          98.19    0.0  "
      ]
     },
     "execution_count": 10,
     "metadata": {},
     "output_type": "execute_result"
    }
   ],
   "source": [
    "pd.DataFrame([df_raw.dtypes, round(df_raw.isnull().sum()*100 / NUMBER_RECORDS,2)])"
   ]
  },
  {
   "cell_type": "code",
   "execution_count": 11,
   "metadata": {},
   "outputs": [
    {
     "name": "stdout",
     "output_type": "stream",
     "text": [
      "Tech Features Removed : ['ID_PERS', 'ID_LOCL', 'DATE_REF']\n"
     ]
    }
   ],
   "source": [
    "IDs_fields = [col for col in df_raw.columns if 'ID_' in col]\n",
    "others_tech_fields = ['DATE_REF']\n",
    "\n",
    "tech_fields = IDs_fields + others_tech_fields\n",
    "print(f\"Tech Features Removed : {tech_fields}\")"
   ]
  },
  {
   "cell_type": "code",
   "execution_count": 12,
   "metadata": {},
   "outputs": [],
   "source": [
    "df_raw = df_raw.drop(tech_fields, axis=1)"
   ]
  },
  {
   "cell_type": "code",
   "execution_count": 13,
   "metadata": {},
   "outputs": [
    {
     "data": {
      "text/plain": [
       "['date_resil_tot']"
      ]
     },
     "execution_count": 13,
     "metadata": {},
     "output_type": "execute_result"
    }
   ],
   "source": [
    "SPARSE_THRESHOLD = 0.60\n",
    "sparse_feats = [col for col in df_raw.columns if df_raw[col].isnull().sum() / NUMBER_RECORDS > SPARSE_THRESHOLD]\n",
    "sparse_feats"
   ]
  },
  {
   "cell_type": "code",
   "execution_count": 14,
   "metadata": {},
   "outputs": [],
   "source": [
    "df_raw = df_raw.drop(sparse_feats, axis=1)"
   ]
  },
  {
   "cell_type": "code",
   "execution_count": 15,
   "metadata": {},
   "outputs": [
    {
     "name": "stdout",
     "output_type": "stream",
     "text": [
      "Number of Numerical Features Features : 1\n"
     ]
    },
    {
     "data": {
      "text/plain": [
       "['MT_TOTL_FACT_12M']"
      ]
     },
     "execution_count": 15,
     "metadata": {},
     "output_type": "execute_result"
    }
   ],
   "source": [
    "num_features = [feat for feat in df_raw.columns if any(x in feat for x in ['VA_','NB_','MT_'])]\n",
    "num_features.sort()\n",
    "print(f\"Number of Numerical Features Features : {len(num_features)}\")\n",
    "num_features"
   ]
  },
  {
   "cell_type": "code",
   "execution_count": 16,
   "metadata": {},
   "outputs": [],
   "source": [
    "fl_features = [feat for feat in df_raw.columns if 'FL_' in feat]\n",
    "lb_features = [feat for feat in df_raw.columns if 'LB_' in feat]\n",
    "cd_features = [feat for feat in df_raw.columns if 'CODE_' in feat]\n",
    "fl_features.sort()\n",
    "lb_features.sort()\n",
    "cd_features.sort()"
   ]
  },
  {
   "cell_type": "code",
   "execution_count": 17,
   "metadata": {},
   "outputs": [
    {
     "name": "stdout",
     "output_type": "stream",
     "text": [
      "Number of Numerical Features Features : 3\n"
     ]
    },
    {
     "data": {
      "text/plain": [
       "['CODE_STATUT_OCCUP', 'CODE_TYPE_COMPTAGE', 'CODE_TYPE_HABITAT']"
      ]
     },
     "execution_count": 17,
     "metadata": {},
     "output_type": "execute_result"
    }
   ],
   "source": [
    "print(f\"Number of Numerical Features Features : {len(cd_features)}\")\n",
    "cd_features"
   ]
  },
  {
   "cell_type": "code",
   "execution_count": 18,
   "metadata": {},
   "outputs": [],
   "source": [
    "cat_features = fl_features + lb_features + cd_features"
   ]
  },
  {
   "cell_type": "code",
   "execution_count": 19,
   "metadata": {},
   "outputs": [
    {
     "data": {
      "text/plain": [
       "['FL_SERN_CHDR',\n",
       " 'CODE_STATUT_OCCUP',\n",
       " 'CODE_TYPE_COMPTAGE',\n",
       " 'CODE_TYPE_HABITAT']"
      ]
     },
     "execution_count": 19,
     "metadata": {},
     "output_type": "execute_result"
    }
   ],
   "source": [
    "cat_features"
   ]
  },
  {
   "cell_type": "code",
   "execution_count": 20,
   "metadata": {},
   "outputs": [
    {
     "data": {
      "text/plain": [
       "MT_TOTL_FACT_12M    20.863026\n",
       "dtype: float64"
      ]
     },
     "execution_count": 20,
     "metadata": {},
     "output_type": "execute_result"
    }
   ],
   "source": [
    "df_raw[num_features].isnull().sum()*100 / NUMBER_RECORDS"
   ]
  },
  {
   "cell_type": "code",
   "execution_count": 20,
   "metadata": {},
   "outputs": [],
   "source": [
    "# MT_TOTL_FACT_12M - Now with median, uniform distrib around median can be used\n",
    "df_raw.MT_TOTL_FACT_12M.fillna(df_raw.MT_TOTL_FACT_12M.median(), inplace=True)"
   ]
  },
  {
   "cell_type": "code",
   "execution_count": 21,
   "metadata": {},
   "outputs": [],
   "source": [
    "to_clean_cat_features = ['OFFRE']\n",
    "def clean_mutliple_whitespaces(df,to_clean_cat_features):\n",
    "    for cat_feat in to_clean_cat_features:\n",
    "        df[cat_feat]= df[cat_feat].str.replace(' ', '')\n",
    "    return df"
   ]
  },
  {
   "cell_type": "code",
   "execution_count": 22,
   "metadata": {},
   "outputs": [],
   "source": [
    "df_raw = clean_mutliple_whitespaces(df_raw,to_clean_cat_features)"
   ]
  },
  {
   "cell_type": "code",
   "execution_count": 23,
   "metadata": {},
   "outputs": [],
   "source": [
    "df1=df_raw"
   ]
  },
  {
   "cell_type": "code",
   "execution_count": 24,
   "metadata": {},
   "outputs": [
    {
     "name": "stdout",
     "output_type": "stream",
     "text": [
      "OFFRE\n",
      "ELEC    48765\n",
      "DUAL    45203\n",
      "GAZ     10418\n",
      "Name: OFFRE, dtype: int64\n",
      "CODE_TYPE_COMPTAGE\n",
      "SIMP        57528\n",
      "HPHC        33639\n",
      "3CAD         2800\n",
      "Name: CODE_TYPE_COMPTAGE, dtype: int64\n",
      "CODE_STATUT_OCCUP\n",
      "LOC         69556\n",
      "PRO         34830\n",
      "Name: CODE_STATUT_OCCUP, dtype: int64\n",
      "CODE_TYPE_HABITAT\n",
      "H2      55409\n",
      "H1      37931\n",
      "Name: CODE_TYPE_HABITAT, dtype: int64\n",
      "NVO_EMMENAG\n",
      "0    73114\n",
      "1    31272\n",
      "Name: NVO_EMMENAG, dtype: int64\n",
      "MT_TOTL_FACT_12M\n",
      "1000.72    32001\n",
      "13.36          9\n",
      "25.44          7\n",
      "51.46          7\n",
      "60.89          6\n",
      "           ...  \n",
      "2633.49        1\n",
      "1400.55        1\n",
      "2468.93        1\n",
      "366.99         1\n",
      "677.66         1\n",
      "Name: MT_TOTL_FACT_12M, Length: 61350, dtype: int64\n",
      "FL_SERN_CHDR\n",
      "0    103586\n",
      "1       800\n",
      "Name: FL_SERN_CHDR, dtype: int64\n",
      "TARGET\n",
      "1    104386\n",
      "Name: TARGET, dtype: int64\n"
     ]
    }
   ],
   "source": [
    "for i in df1.columns:\n",
    "    print(i)\n",
    "    print(df1[df1[\"TARGET\"] == 1][i].value_counts())\n",
    "    #print(max(df1[df_prep[\"TARGET\"] == 1][i].value_counts()))"
   ]
  },
  {
   "cell_type": "code",
   "execution_count": 26,
   "metadata": {},
   "outputs": [
    {
     "name": "stdout",
     "output_type": "stream",
     "text": [
      "OFFRE\n",
      "ELEC    2364699\n",
      "DUAL    2161992\n",
      "GAZ     1152502\n",
      "              3\n",
      "Name: OFFRE, dtype: int64\n",
      "CODE_TYPE_COMPTAGE\n",
      "SIMP        2891003\n",
      "HPHC        1519130\n",
      "3CAD         116479\n",
      "HC/H              1\n",
      "Name: CODE_TYPE_COMPTAGE, dtype: int64\n",
      "CODE_STATUT_OCCUP\n",
      "LOC         2966348\n",
      "PRO         2712848\n",
      "Name: CODE_STATUT_OCCUP, dtype: int64\n",
      "CODE_TYPE_HABITAT\n",
      "H2      2628765\n",
      "H1      2433407\n",
      "Name: CODE_TYPE_HABITAT, dtype: int64\n",
      "NVO_EMMENAG\n",
      "0    4526476\n",
      "1    1152720\n",
      "Name: NVO_EMMENAG, dtype: int64\n",
      "MT_TOTL_FACT_12M\n",
      " 1000.72    1175570\n",
      " 0.00          2405\n",
      " 0.02           279\n",
      " 0.24           163\n",
      " 111.67         161\n",
      "             ...   \n",
      " 2740.02          1\n",
      " 6879.34          1\n",
      "-999.68           1\n",
      " 7728.39          1\n",
      " 6141.69          1\n",
      "Name: MT_TOTL_FACT_12M, Length: 400875, dtype: int64\n",
      "FL_SERN_CHDR\n",
      "0    5633721\n",
      "1      45475\n",
      "Name: FL_SERN_CHDR, dtype: int64\n",
      "TARGET\n",
      "0    5679196\n",
      "Name: TARGET, dtype: int64\n"
     ]
    }
   ],
   "source": [
    "for i in df1.columns:\n",
    "    print(i)\n",
    "    print(df1[df1[\"TARGET\"] == 0][i].value_counts())\n",
    "    #print(max(df1[df_prep[\"TARGET\"] == 1][i].value_counts()))"
   ]
  },
  {
   "cell_type": "code",
   "execution_count": 25,
   "metadata": {},
   "outputs": [],
   "source": [
    "# Get Dummies for the rest\n",
    "to_dummify = ['OFFRE', 'CODE_TYPE_COMPTAGE', 'CODE_STATUT_OCCUP', 'CODE_TYPE_HABITAT','NVO_EMMENAG','FL_SERN_CHDR']\n",
    "df_raw = pd.get_dummies(df_raw, prefix_sep=\"_\", columns=to_dummify)"
   ]
  },
  {
   "cell_type": "code",
   "execution_count": 26,
   "metadata": {},
   "outputs": [
    {
     "data": {
      "text/html": [
       "<div>\n",
       "<style scoped>\n",
       "    .dataframe tbody tr th:only-of-type {\n",
       "        vertical-align: middle;\n",
       "    }\n",
       "\n",
       "    .dataframe tbody tr th {\n",
       "        vertical-align: top;\n",
       "    }\n",
       "\n",
       "    .dataframe thead th {\n",
       "        text-align: right;\n",
       "    }\n",
       "</style>\n",
       "<table border=\"1\" class=\"dataframe\">\n",
       "  <thead>\n",
       "    <tr style=\"text-align: right;\">\n",
       "      <th></th>\n",
       "      <th>MT_TOTL_FACT_12M</th>\n",
       "      <th>TARGET</th>\n",
       "      <th>OFFRE_</th>\n",
       "      <th>OFFRE_DUAL</th>\n",
       "      <th>OFFRE_ELEC</th>\n",
       "      <th>OFFRE_GAZ</th>\n",
       "      <th>CODE_TYPE_COMPTAGE_3CAD</th>\n",
       "      <th>CODE_TYPE_COMPTAGE_HC/H</th>\n",
       "      <th>CODE_TYPE_COMPTAGE_HPHC</th>\n",
       "      <th>CODE_TYPE_COMPTAGE_SIMP</th>\n",
       "      <th>CODE_STATUT_OCCUP_LOC</th>\n",
       "      <th>CODE_STATUT_OCCUP_PRO</th>\n",
       "      <th>CODE_TYPE_HABITAT_H1</th>\n",
       "      <th>CODE_TYPE_HABITAT_H2</th>\n",
       "      <th>NVO_EMMENAG_0</th>\n",
       "      <th>NVO_EMMENAG_1</th>\n",
       "      <th>FL_SERN_CHDR_0</th>\n",
       "      <th>FL_SERN_CHDR_1</th>\n",
       "    </tr>\n",
       "  </thead>\n",
       "  <tbody>\n",
       "    <tr>\n",
       "      <th>0</th>\n",
       "      <td>1000.72</td>\n",
       "      <td>0</td>\n",
       "      <td>0</td>\n",
       "      <td>1</td>\n",
       "      <td>0</td>\n",
       "      <td>0</td>\n",
       "      <td>0</td>\n",
       "      <td>0</td>\n",
       "      <td>0</td>\n",
       "      <td>1</td>\n",
       "      <td>1</td>\n",
       "      <td>0</td>\n",
       "      <td>0</td>\n",
       "      <td>1</td>\n",
       "      <td>0</td>\n",
       "      <td>1</td>\n",
       "      <td>1</td>\n",
       "      <td>0</td>\n",
       "    </tr>\n",
       "    <tr>\n",
       "      <th>1</th>\n",
       "      <td>1819.54</td>\n",
       "      <td>0</td>\n",
       "      <td>0</td>\n",
       "      <td>0</td>\n",
       "      <td>1</td>\n",
       "      <td>0</td>\n",
       "      <td>0</td>\n",
       "      <td>0</td>\n",
       "      <td>1</td>\n",
       "      <td>0</td>\n",
       "      <td>0</td>\n",
       "      <td>1</td>\n",
       "      <td>1</td>\n",
       "      <td>0</td>\n",
       "      <td>1</td>\n",
       "      <td>0</td>\n",
       "      <td>1</td>\n",
       "      <td>0</td>\n",
       "    </tr>\n",
       "    <tr>\n",
       "      <th>2</th>\n",
       "      <td>944.24</td>\n",
       "      <td>0</td>\n",
       "      <td>0</td>\n",
       "      <td>0</td>\n",
       "      <td>1</td>\n",
       "      <td>0</td>\n",
       "      <td>0</td>\n",
       "      <td>0</td>\n",
       "      <td>0</td>\n",
       "      <td>1</td>\n",
       "      <td>0</td>\n",
       "      <td>1</td>\n",
       "      <td>1</td>\n",
       "      <td>0</td>\n",
       "      <td>1</td>\n",
       "      <td>0</td>\n",
       "      <td>1</td>\n",
       "      <td>0</td>\n",
       "    </tr>\n",
       "    <tr>\n",
       "      <th>3</th>\n",
       "      <td>1233.09</td>\n",
       "      <td>0</td>\n",
       "      <td>0</td>\n",
       "      <td>1</td>\n",
       "      <td>0</td>\n",
       "      <td>0</td>\n",
       "      <td>0</td>\n",
       "      <td>0</td>\n",
       "      <td>0</td>\n",
       "      <td>1</td>\n",
       "      <td>0</td>\n",
       "      <td>1</td>\n",
       "      <td>0</td>\n",
       "      <td>1</td>\n",
       "      <td>1</td>\n",
       "      <td>0</td>\n",
       "      <td>1</td>\n",
       "      <td>0</td>\n",
       "    </tr>\n",
       "    <tr>\n",
       "      <th>4</th>\n",
       "      <td>1000.72</td>\n",
       "      <td>0</td>\n",
       "      <td>0</td>\n",
       "      <td>0</td>\n",
       "      <td>1</td>\n",
       "      <td>0</td>\n",
       "      <td>0</td>\n",
       "      <td>0</td>\n",
       "      <td>0</td>\n",
       "      <td>1</td>\n",
       "      <td>0</td>\n",
       "      <td>1</td>\n",
       "      <td>0</td>\n",
       "      <td>0</td>\n",
       "      <td>0</td>\n",
       "      <td>1</td>\n",
       "      <td>1</td>\n",
       "      <td>0</td>\n",
       "    </tr>\n",
       "    <tr>\n",
       "      <th>...</th>\n",
       "      <td>...</td>\n",
       "      <td>...</td>\n",
       "      <td>...</td>\n",
       "      <td>...</td>\n",
       "      <td>...</td>\n",
       "      <td>...</td>\n",
       "      <td>...</td>\n",
       "      <td>...</td>\n",
       "      <td>...</td>\n",
       "      <td>...</td>\n",
       "      <td>...</td>\n",
       "      <td>...</td>\n",
       "      <td>...</td>\n",
       "      <td>...</td>\n",
       "      <td>...</td>\n",
       "      <td>...</td>\n",
       "      <td>...</td>\n",
       "      <td>...</td>\n",
       "    </tr>\n",
       "    <tr>\n",
       "      <th>5772155</th>\n",
       "      <td>697.02</td>\n",
       "      <td>0</td>\n",
       "      <td>0</td>\n",
       "      <td>0</td>\n",
       "      <td>1</td>\n",
       "      <td>0</td>\n",
       "      <td>0</td>\n",
       "      <td>0</td>\n",
       "      <td>1</td>\n",
       "      <td>0</td>\n",
       "      <td>1</td>\n",
       "      <td>0</td>\n",
       "      <td>0</td>\n",
       "      <td>1</td>\n",
       "      <td>1</td>\n",
       "      <td>0</td>\n",
       "      <td>1</td>\n",
       "      <td>0</td>\n",
       "    </tr>\n",
       "    <tr>\n",
       "      <th>5772156</th>\n",
       "      <td>1528.33</td>\n",
       "      <td>0</td>\n",
       "      <td>0</td>\n",
       "      <td>0</td>\n",
       "      <td>0</td>\n",
       "      <td>1</td>\n",
       "      <td>0</td>\n",
       "      <td>0</td>\n",
       "      <td>0</td>\n",
       "      <td>0</td>\n",
       "      <td>0</td>\n",
       "      <td>1</td>\n",
       "      <td>1</td>\n",
       "      <td>0</td>\n",
       "      <td>1</td>\n",
       "      <td>0</td>\n",
       "      <td>1</td>\n",
       "      <td>0</td>\n",
       "    </tr>\n",
       "    <tr>\n",
       "      <th>5772157</th>\n",
       "      <td>1710.70</td>\n",
       "      <td>0</td>\n",
       "      <td>0</td>\n",
       "      <td>1</td>\n",
       "      <td>0</td>\n",
       "      <td>0</td>\n",
       "      <td>0</td>\n",
       "      <td>0</td>\n",
       "      <td>0</td>\n",
       "      <td>1</td>\n",
       "      <td>0</td>\n",
       "      <td>1</td>\n",
       "      <td>1</td>\n",
       "      <td>0</td>\n",
       "      <td>1</td>\n",
       "      <td>0</td>\n",
       "      <td>1</td>\n",
       "      <td>0</td>\n",
       "    </tr>\n",
       "    <tr>\n",
       "      <th>5772158</th>\n",
       "      <td>1000.72</td>\n",
       "      <td>0</td>\n",
       "      <td>0</td>\n",
       "      <td>0</td>\n",
       "      <td>1</td>\n",
       "      <td>0</td>\n",
       "      <td>0</td>\n",
       "      <td>0</td>\n",
       "      <td>0</td>\n",
       "      <td>1</td>\n",
       "      <td>0</td>\n",
       "      <td>1</td>\n",
       "      <td>0</td>\n",
       "      <td>1</td>\n",
       "      <td>0</td>\n",
       "      <td>1</td>\n",
       "      <td>1</td>\n",
       "      <td>0</td>\n",
       "    </tr>\n",
       "    <tr>\n",
       "      <th>5772159</th>\n",
       "      <td>572.08</td>\n",
       "      <td>0</td>\n",
       "      <td>0</td>\n",
       "      <td>0</td>\n",
       "      <td>1</td>\n",
       "      <td>0</td>\n",
       "      <td>0</td>\n",
       "      <td>0</td>\n",
       "      <td>0</td>\n",
       "      <td>1</td>\n",
       "      <td>1</td>\n",
       "      <td>0</td>\n",
       "      <td>0</td>\n",
       "      <td>1</td>\n",
       "      <td>1</td>\n",
       "      <td>0</td>\n",
       "      <td>1</td>\n",
       "      <td>0</td>\n",
       "    </tr>\n",
       "  </tbody>\n",
       "</table>\n",
       "<p>5772160 rows × 18 columns</p>\n",
       "</div>"
      ],
      "text/plain": [
       "         MT_TOTL_FACT_12M  TARGET  OFFRE_  OFFRE_DUAL  OFFRE_ELEC  OFFRE_GAZ  \\\n",
       "0                 1000.72       0       0           1           0          0   \n",
       "1                 1819.54       0       0           0           1          0   \n",
       "2                  944.24       0       0           0           1          0   \n",
       "3                 1233.09       0       0           1           0          0   \n",
       "4                 1000.72       0       0           0           1          0   \n",
       "...                   ...     ...     ...         ...         ...        ...   \n",
       "5772155            697.02       0       0           0           1          0   \n",
       "5772156           1528.33       0       0           0           0          1   \n",
       "5772157           1710.70       0       0           1           0          0   \n",
       "5772158           1000.72       0       0           0           1          0   \n",
       "5772159            572.08       0       0           0           1          0   \n",
       "\n",
       "         CODE_TYPE_COMPTAGE_3CAD      CODE_TYPE_COMPTAGE_HC/H      \\\n",
       "0                                  0                            0   \n",
       "1                                  0                            0   \n",
       "2                                  0                            0   \n",
       "3                                  0                            0   \n",
       "4                                  0                            0   \n",
       "...                              ...                          ...   \n",
       "5772155                            0                            0   \n",
       "5772156                            0                            0   \n",
       "5772157                            0                            0   \n",
       "5772158                            0                            0   \n",
       "5772159                            0                            0   \n",
       "\n",
       "         CODE_TYPE_COMPTAGE_HPHC      CODE_TYPE_COMPTAGE_SIMP      \\\n",
       "0                                  0                            1   \n",
       "1                                  1                            0   \n",
       "2                                  0                            1   \n",
       "3                                  0                            1   \n",
       "4                                  0                            1   \n",
       "...                              ...                          ...   \n",
       "5772155                            1                            0   \n",
       "5772156                            0                            0   \n",
       "5772157                            0                            1   \n",
       "5772158                            0                            1   \n",
       "5772159                            0                            1   \n",
       "\n",
       "         CODE_STATUT_OCCUP_LOC       CODE_STATUT_OCCUP_PRO       \\\n",
       "0                                 1                           0   \n",
       "1                                 0                           1   \n",
       "2                                 0                           1   \n",
       "3                                 0                           1   \n",
       "4                                 0                           1   \n",
       "...                             ...                         ...   \n",
       "5772155                           1                           0   \n",
       "5772156                           0                           1   \n",
       "5772157                           0                           1   \n",
       "5772158                           0                           1   \n",
       "5772159                           1                           0   \n",
       "\n",
       "         CODE_TYPE_HABITAT_H1    CODE_TYPE_HABITAT_H2    NVO_EMMENAG_0  \\\n",
       "0                             0                       1              0   \n",
       "1                             1                       0              1   \n",
       "2                             1                       0              1   \n",
       "3                             0                       1              1   \n",
       "4                             0                       0              0   \n",
       "...                         ...                     ...            ...   \n",
       "5772155                       0                       1              1   \n",
       "5772156                       1                       0              1   \n",
       "5772157                       1                       0              1   \n",
       "5772158                       0                       1              0   \n",
       "5772159                       0                       1              1   \n",
       "\n",
       "         NVO_EMMENAG_1  FL_SERN_CHDR_0  FL_SERN_CHDR_1  \n",
       "0                    1               1               0  \n",
       "1                    0               1               0  \n",
       "2                    0               1               0  \n",
       "3                    0               1               0  \n",
       "4                    1               1               0  \n",
       "...                ...             ...             ...  \n",
       "5772155              0               1               0  \n",
       "5772156              0               1               0  \n",
       "5772157              0               1               0  \n",
       "5772158              1               1               0  \n",
       "5772159              0               1               0  \n",
       "\n",
       "[5772160 rows x 18 columns]"
      ]
     },
     "execution_count": 26,
     "metadata": {},
     "output_type": "execute_result"
    }
   ],
   "source": [
    "df_raw"
   ]
  },
  {
   "cell_type": "code",
   "execution_count": 30,
   "metadata": {},
   "outputs": [
    {
     "name": "stdout",
     "output_type": "stream",
     "text": [
      "Index(['MT_TOTL_FACT_12M', 'OFFRE_', 'CODE_TYPE_COMPTAGE_3CAD    ',\n",
      "       'CODE_TYPE_COMPTAGE_HC/H    ', 'FL_SERN_CHDR_0', 'FL_SERN_CHDR_1'],\n",
      "      dtype='object')\n"
     ]
    }
   ],
   "source": [
    "#enlever les variables non correlés à la target\n",
    "corr = pd.DataFrame(df_raw.corr().loc[\"TARGET\"]) \n",
    "pas_cor = corr.loc[abs(corr[\"TARGET\"]) < 0.01].index\n",
    "print (pas_cor)"
   ]
  },
  {
   "cell_type": "code",
   "execution_count": 32,
   "metadata": {},
   "outputs": [],
   "source": [
    "df_raw = df_raw.drop(pas_cor,axis = 1)"
   ]
  },
  {
   "cell_type": "code",
   "execution_count": 33,
   "metadata": {},
   "outputs": [
    {
     "data": {
      "text/plain": [
       "(5772160, 12)"
      ]
     },
     "execution_count": 33,
     "metadata": {},
     "output_type": "execute_result"
    }
   ],
   "source": [
    "df_raw.shape"
   ]
  },
  {
   "cell_type": "code",
   "execution_count": 36,
   "metadata": {},
   "outputs": [
    {
     "name": "stdout",
     "output_type": "stream",
     "text": [
      "TARGET                         1.000000\n",
      "OFFRE_DUAL                     0.014378\n",
      "OFFRE_ELEC                     0.013760\n",
      "OFFRE_GAZ                     -0.034342\n",
      "CODE_TYPE_COMPTAGE_HPHC        0.016506\n",
      "CODE_TYPE_COMPTAGE_SIMP        0.011224\n",
      "CODE_STATUT_OCCUP_LOC          0.038496\n",
      "CODE_STATUT_OCCUP_PRO         -0.038496\n",
      "CODE_TYPE_HABITAT_H1          -0.017568\n",
      "CODE_TYPE_HABITAT_H2           0.018184\n",
      "NVO_EMMENAG_0                 -0.031966\n",
      "NVO_EMMENAG_1                  0.031966\n",
      "Name: TARGET, dtype: float64\n"
     ]
    },
    {
     "name": "stderr",
     "output_type": "stream",
     "text": [
      "<ipython-input-36-eee9e7a6fb4f>:6: DeprecationWarning: `np.bool` is a deprecated alias for the builtin `bool`. To silence this warning, use `bool` by itself. Doing this will not modify any behavior and is safe. If you specifically wanted the numpy scalar type, use `np.bool_` here.\n",
      "Deprecated in NumPy 1.20; for more details and guidance: https://numpy.org/devdocs/release/1.20.0-notes.html#deprecations\n",
      "  mask = np.zeros_like(corr, dtype=np.bool)\n"
     ]
    },
    {
     "data": {
      "image/png": "[encoded data removed]",
      "text/plain": [
       "<Figure size 1008x576 with 2 Axes>"
      ]
     },
     "metadata": {
      "needs_background": "light"
     },
     "output_type": "display_data"
    }
   ],
   "source": [
    "Score_AF_coor = pd.concat([df_raw.iloc[:,:],df_raw['TARGET']], axis = 1)\n",
    "\n",
    "corr = df_raw.corr()\n",
    "print (corr.loc['TARGET'])\n",
    "\n",
    "mask = np.zeros_like(corr, dtype=np.bool)\n",
    "mask[np.triu_indices_from(mask)] = True\n",
    "\n",
    "figure0 = plt.figure(figsize = (14, 8))\n",
    "\n",
    "cmap = sns.diverging_palette(20, 220, sep=1, n=300)\n",
    "#sns.palplot(sns.color_palette(\"RdBu_r\", 7))\n",
    "#sns.diverging_palette(240, 10, n=9)\n",
    "\n",
    "sns.set(style=\"white\")\n",
    "sns.heatmap(corr, mask = mask, cmap=cmap, vmax=.3, center=0,\n",
    "          square=True, linewidths=.5, cbar_kws={\"shrink\": .5}) #annot_kws={'size':20})\n",
    "plt.gca().set_xticklabels(plt.gca().get_xticklabels(), rotation=45, horizontalalignment='right')\n",
    "plt.show()"
   ]
  },
  {
   "cell_type": "code",
   "execution_count": 37,
   "metadata": {},
   "outputs": [],
   "source": [
    "import imblearn as imb\n",
    "from sklearn.model_selection import train_test_split\n",
    "from sklearn.linear_model import LogisticRegression\n",
    "from sklearn import preprocessing"
   ]
  },
  {
   "cell_type": "code",
   "execution_count": 38,
   "metadata": {},
   "outputs": [
    {
     "name": "stdout",
     "output_type": "stream",
     "text": [
      "Unique ID_PERS  : 5772160\n",
      "NB Churneurs : 104386\n"
     ]
    }
   ],
   "source": [
    "print(f\"Unique ID_PERS  : {len(df_raw)}\\nNB Churneurs : {df_raw.TARGET.sum()}\")"
   ]
  },
  {
   "cell_type": "code",
   "execution_count": 39,
   "metadata": {},
   "outputs": [],
   "source": [
    "X =  df_raw.loc[:, df_raw.columns != 'TARGET']\n",
    "y =  df_raw['TARGET']"
   ]
  },
  {
   "cell_type": "code",
   "execution_count": null,
   "metadata": {},
   "outputs": [
    {
     "name": "stdout",
     "output_type": "stream",
     "text": [
      "Index(['MT_TOTL_FACT_12M', 'OFFRE_DUAL', 'OFFRE_ELEC', 'OFFRE_GAZ',\n",
      "       'CODE_TYPE_COMPTAGE_3CAD    ', 'CODE_TYPE_COMPTAGE_HPHC    ',\n",
      "       'CODE_TYPE_COMPTAGE_SIMP    ', 'CODE_STATUT_OCCUP_LOC     ',\n",
      "       'CODE_STATUT_OCCUP_PRO     ', 'CODE_TYPE_HABITAT_H1  ',\n",
      "       'CODE_TYPE_HABITAT_H2  ', 'NVO_EMMENAG_0', 'NVO_EMMENAG_1'],\n",
      "      dtype='object')\n"
     ]
    }
   ],
   "source": [
    "print(X.columns)"
   ]
  },
  {
   "cell_type": "code",
   "execution_count": 40,
   "metadata": {},
   "outputs": [],
   "source": [
    "# Create Validation Dataset\n",
    "X_main, X_valid, y_main, y_valid = train_test_split(X, y, train_size = 0.85, stratify =y)"
   ]
  },
  {
   "cell_type": "code",
   "execution_count": 41,
   "metadata": {},
   "outputs": [
    {
     "name": "stderr",
     "output_type": "stream",
     "text": [
      "/home/pj5720/.conda/envs/Edge/lib/python3.8/site-packages/imblearn/utils/_validation.py:587: FutureWarning: Pass sampling_strategy=0.25 as keyword args. From version 0.9 passing these as positional arguments will result in an error\n",
      "  warnings.warn(\n"
     ]
    }
   ],
   "source": [
    "# Random UnderSampler\n",
    "rus = imb.under_sampling.RandomUnderSampler(0.25)\n",
    "X_sampled, y_sampled = rus.fit_resample(X_main,y_main)"
   ]
  },
  {
   "cell_type": "code",
   "execution_count": 45,
   "metadata": {},
   "outputs": [
    {
     "name": "stdout",
     "output_type": "stream",
     "text": [
      "Resampled from 4906336 to 443640\n",
      "Target    from 88728 to 88728\n"
     ]
    }
   ],
   "source": [
    "# Under Sampler on target\n",
    "print(f\"Resampled from {len(X_main)} to {len(X_sampled)}\")\n",
    "print(f\"Target    from {sum(y_main)} to {sum(y_sampled)}\")\n",
    "X_train, X_test, y_train, y_test = train_test_split(X_sampled, y_sampled, train_size = 0.80, stratify=y_sampled)"
   ]
  },
  {
   "cell_type": "code",
   "execution_count": 43,
   "metadata": {},
   "outputs": [
    {
     "data": {
      "text/plain": [
       "0    0.8\n",
       "1    0.2\n",
       "Name: TARGET, dtype: float64"
      ]
     },
     "execution_count": 43,
     "metadata": {},
     "output_type": "execute_result"
    }
   ],
   "source": [
    "y_sampled.value_counts()/len(y_sampled)"
   ]
  },
  {
   "cell_type": "code",
   "execution_count": 128,
   "metadata": {},
   "outputs": [
    {
     "name": "stderr",
     "output_type": "stream",
     "text": [
      "/home/pj5720/.conda/envs/Edge/lib/python3.8/site-packages/imblearn/utils/_validation.py:587: FutureWarning: Pass sampling_strategy=0.1 as keyword args. From version 0.9 passing these as positional arguments will result in an error\n",
      "  warnings.warn(\n"
     ]
    }
   ],
   "source": [
    "#rus1 = imb.combine.SMOTETomek(0.10)\n",
    "#pipe = imb.pipeline.make_pipeline( imb.over_sampling.SMOTE(0.25),imb.under_sampling.NearMiss(0.25))"
   ]
  },
  {
   "cell_type": "code",
   "execution_count": 129,
   "metadata": {},
   "outputs": [
    {
     "data": {
      "text/plain": [
       "SMOTETomek(sampling_strategy=0.1)"
      ]
     },
     "execution_count": 129,
     "metadata": {},
     "output_type": "execute_result"
    }
   ],
   "source": [
    "#rus1"
   ]
  },
  {
   "cell_type": "code",
   "execution_count": 130,
   "metadata": {},
   "outputs": [],
   "source": [
    "#X_clust , y_clust = rus1.fit_resample(X_main,y_main)"
   ]
  },
  {
   "cell_type": "code",
   "execution_count": 46,
   "metadata": {},
   "outputs": [],
   "source": [
    "clf = LogisticRegression(max_iter=100000).fit(X_sampled, y_sampled)"
   ]
  },
  {
   "cell_type": "code",
   "execution_count": 67,
   "metadata": {},
   "outputs": [
    {
     "data": {
      "text/plain": [
       "array([-0.65708704])"
      ]
     },
     "execution_count": 67,
     "metadata": {},
     "output_type": "execute_result"
    }
   ],
   "source": [
    "clf.intercept_"
   ]
  },
  {
   "cell_type": "code",
   "execution_count": 68,
   "metadata": {},
   "outputs": [
    {
     "data": {
      "text/plain": [
       "array([[ 0.16396899, -0.02215847, -0.79637081, -0.02363517, -0.22011998,\n",
       "        -0.07246055, -0.5827885 ,  0.17682361,  0.18815365, -0.53241866,\n",
       "        -0.12283039]])"
      ]
     },
     "execution_count": 68,
     "metadata": {},
     "output_type": "execute_result"
    }
   ],
   "source": [
    "clf.coef_"
   ]
  },
  {
   "cell_type": "code",
   "execution_count": 74,
   "metadata": {},
   "outputs": [
    {
     "data": {
      "text/plain": [
       "Index(['OFFRE_DUAL', 'OFFRE_ELEC', 'OFFRE_GAZ', 'CODE_TYPE_COMPTAGE_HPHC    ',\n",
       "       'CODE_TYPE_COMPTAGE_SIMP    ', 'CODE_STATUT_OCCUP_LOC     ',\n",
       "       'CODE_STATUT_OCCUP_PRO     ', 'CODE_TYPE_HABITAT_H1  ',\n",
       "       'CODE_TYPE_HABITAT_H2  ', 'NVO_EMMENAG_0', 'NVO_EMMENAG_1'],\n",
       "      dtype='object')"
      ]
     },
     "execution_count": 74,
     "metadata": {},
     "output_type": "execute_result"
    }
   ],
   "source": [
    "X_sampled.columns"
   ]
  },
  {
   "cell_type": "code",
   "execution_count": 73,
   "metadata": {},
   "outputs": [
    {
     "data": {
      "text/plain": [
       "array([[ 0.16396899, -0.02215847, -0.79637081, -0.02363517, -0.22011998,\n",
       "        -0.07246055, -0.5827885 ,  0.17682361,  0.18815365, -0.53241866,\n",
       "        -0.12283039]])"
      ]
     },
     "execution_count": 73,
     "metadata": {},
     "output_type": "execute_result"
    }
   ],
   "source": [
    "clf.coef_"
   ]
  },
  {
   "cell_type": "code",
   "execution_count": 58,
   "metadata": {},
   "outputs": [],
   "source": [
    "import sklearn.metrics as metrics\n",
    "def regression_results(y_true, y_pred):\n",
    "\n",
    "    # Regression metrics\n",
    "    explained_variance=metrics.explained_variance_score(y_true, y_pred)\n",
    "    mean_absolute_error=metrics.mean_absolute_error(y_true, y_pred) \n",
    "    mse=metrics.mean_squared_error(y_true, y_pred) \n",
    "    mean_squared_log_error=metrics.mean_squared_log_error(y_true, y_pred)\n",
    "    median_absolute_error=metrics.median_absolute_error(y_true, y_pred)\n",
    "    r2=metrics.r2_score(y_true, y_pred)\n",
    "\n",
    "    print('explained_variance: ', round(explained_variance,4))    \n",
    "    print('mean_squared_log_error: ', round(mean_squared_log_error,4))\n",
    "    print('r2: ', round(r2,4))\n",
    "    print('MAE: ', round(mean_absolute_error,4))\n",
    "    print('MSE: ', round(mse,4))\n",
    "    print('RMSE: ', round(np.sqrt(mse),4))"
   ]
  },
  {
   "cell_type": "code",
   "execution_count": 66,
   "metadata": {},
   "outputs": [
    {
     "ename": "NameError",
     "evalue": "name 'X_valid_scaled' is not defined",
     "output_type": "error",
     "traceback": [
      "\u001b[0;31m---------------------------------------------------------------------------\u001b[0m",
      "\u001b[0;31mNameError\u001b[0m                                 Traceback (most recent call last)",
      "\u001b[0;32m<ipython-input-66-7d4e33c35cb3>\u001b[0m in \u001b[0;36m<module>\u001b[0;34m\u001b[0m\n\u001b[0;32m----> 1\u001b[0;31m \u001b[0my_clf_pred_valid\u001b[0m \u001b[0;34m=\u001b[0m \u001b[0mclf\u001b[0m\u001b[0;34m.\u001b[0m\u001b[0mpredict\u001b[0m\u001b[0;34m(\u001b[0m\u001b[0mX_valid_scaled\u001b[0m\u001b[0;34m)\u001b[0m\u001b[0;34m\u001b[0m\u001b[0;34m\u001b[0m\u001b[0m\n\u001b[0m\u001b[1;32m      2\u001b[0m \u001b[0my_clf_pred_valid_proba\u001b[0m \u001b[0;34m=\u001b[0m \u001b[0mclf\u001b[0m\u001b[0;34m.\u001b[0m\u001b[0mpredict_proba\u001b[0m\u001b[0;34m(\u001b[0m\u001b[0mX_valid_scaled\u001b[0m\u001b[0;34m)\u001b[0m\u001b[0;34m\u001b[0m\u001b[0;34m\u001b[0m\u001b[0m\n",
      "\u001b[0;31mNameError\u001b[0m: name 'X_valid_scaled' is not defined"
     ]
    }
   ],
   "source": [
    "y_clf_pred_valid = clf.predict(X_valid_scaled)\n",
    "y_clf_pred_valid_proba = clf.predict_proba(X_valid_scaled)"
   ]
  },
  {
   "cell_type": "code",
   "execution_count": null,
   "metadata": {},
   "outputs": [],
   "source": [
    "print( np.unique( y_clf_pred_valid) )   # le modèle prédit bien 2 classes"
   ]
  },
  {
   "cell_type": "code",
   "execution_count": null,
   "metadata": {},
   "outputs": [],
   "source": [
    "#SCALING STEP\n",
    "X_trained_scaled1 = preprocessing.scale(X_clust)\n",
    "#X_test_scaled = preprocessing.scale(X_test)\n",
    "X_valid_scaled1 =  preprocessing.scale(X_valid)"
   ]
  },
  {
   "cell_type": "code",
   "execution_count": null,
   "metadata": {},
   "outputs": [],
   "source": [
    "clf_balanced = LogisticRegression(max_iter=100000, class_weight = 'balanced').fit(X_trained_scaled1, y_clust)"
   ]
  },
  {
   "cell_type": "code",
   "execution_count": null,
   "metadata": {},
   "outputs": [],
   "source": [
    "y_clf_pred_valid2 = clf_balanced.predict(X_valid_scaled1)\n",
    "y_clf_pred_valid_proba2 = clf_balanced.predict_proba(X_valid_scaled1)"
   ]
  },
  {
   "cell_type": "code",
   "execution_count": null,
   "metadata": {},
   "outputs": [],
   "source": [
    "print( np.unique( y_clf_pred_valid2) )   # le modèle prédit bien 2 classes"
   ]
  },
  {
   "cell_type": "code",
   "execution_count": null,
   "metadata": {},
   "outputs": [],
   "source": [
    "from sklearn.metrics import confusion_matrix, classification_report, roc_auc_score, roc_curve, balanced_accuracy_score\n",
    "import scikitplot as skplt "
   ]
  },
  {
   "cell_type": "code",
   "execution_count": null,
   "metadata": {},
   "outputs": [],
   "source": [
    "def get_metrics(y_true, y_pred):\n",
    "    metric_dict = classification_report(y_true, y_pred, output_dict=True)\n",
    "    return pd.DataFrame.from_dict(metric_dict['1'], orient='index', dtype='float').T.apply(lambda x: round(x,5))\n",
    "\n",
    "def get_deciles_repartition(y_true, y_pred_proba):\n",
    "    NB_TARGET = y_true.sum()\n",
    "    deciles_df = pd.DataFrame(data={'y_true' : y_true, 'scores_pred': y_pred_proba})\n",
    "    deciles_df['decile'] = pd.qcut(deciles_df['scores_pred'], q=10 ,labels=np.arange(10, 0, -1))\n",
    "    results_per_deciles = pd.crosstab(deciles_df['decile'],deciles_df['y_true'])\n",
    "    results_per_deciles['Precision'] = results_per_deciles[1]*100 /(results_per_deciles[1]+results_per_deciles[0])\n",
    "    results_per_deciles['Recall'] = results_per_deciles[1]*100 / NB_TARGET\n",
    "    return results_per_deciles"
   ]
  },
  {
   "cell_type": "code",
   "execution_count": null,
   "metadata": {},
   "outputs": [],
   "source": [
    "y_pred = clf.predict(X_valid)\n",
    "balanced_accuracy_score(y_valid, y_clf_pred_valid)"
   ]
  },
  {
   "cell_type": "code",
   "execution_count": null,
   "metadata": {},
   "outputs": [],
   "source": [
    "matrice_confusion = confusion_matrix(y_valid, y_clf_pred_valid)\n",
    "print(matrice_confusion)"
   ]
  },
  {
   "cell_type": "code",
   "execution_count": null,
   "metadata": {},
   "outputs": [],
   "source": [
    "print('Pourcentage de 1 bien prédit : {:.2f} %'.format(matrice_confusion[1][1]*100/(matrice_confusion[1][1]+matrice_confusion[1][0])))\n",
    "print('Pourcentage de 0 bien prédit : {:.2f} %'.format(matrice_confusion[0][0]*100/(matrice_confusion[0][0]+matrice_confusion[0][1])))"
   ]
  },
  {
   "cell_type": "code",
   "execution_count": null,
   "metadata": {},
   "outputs": [],
   "source": [
    "skplt.metrics.plot_cumulative_gain(y_valid, y_clf_pred_valid_proba,figsize= (15,15) )"
   ]
  }
 ],
 "metadata": {
  "interpreter": {
   "hash": "272123af24a2d9d335b3a723175c0903df4302958cb756f83f2f2b22a8793091"
  },
  "kernelspec": {
   "display_name": "Python 3.8.10 64-bit ('Edge': conda)",
   "name": "python3"
  },
  "language_info": {
   "codemirror_mode": {
    "name": "ipython",
    "version": 3
   },
   "file_extension": ".py",
   "mimetype": "text/x-python",
   "name": "python",
   "nbconvert_exporter": "python",
   "pygments_lexer": "ipython3",
   "version": "3.8.10"
  },
  "orig_nbformat": 4
 },
 "nbformat": 4,
 "nbformat_minor": 2
}
